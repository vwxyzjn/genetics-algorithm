{
 "cells": [
  {
   "cell_type": "markdown",
   "metadata": {},
   "source": [
    "# LSTM-RNN For Sentiment Analysis\n",
    "Author: Trilby Hren and Costa Huang"
   ]
  },
  {
   "cell_type": "markdown",
   "metadata": {},
   "source": [
    "**Our project has three main parts:**\n",
    "* Reproduce and understand Keras official demo code on LSTM-RNN for sentiment analysis \n",
    " * [imdb_lstm.py](https://github.com/fchollet/keras/blob/master/examples/imdb_lstm.py) Main program that rains a LSTM on the IMDB sentiment classification task.\n",
    " * [imdb.py](https://github.com/fchollet/keras/blob/master/keras/datasets/imdb.py) Preprocessing script of IMDB movie review dataset\n",
    "* Improve the program's accuracy by exploring different techniques:\n",
    " * Preprocessing techniques\n",
    " * Activation functions\n",
    " * Optimizer choices\n",
    "* Futher application\n",
    " * Visualization of sentiment analysis\n",
    " * Applied our result to Amazon Review Datas\n",
    "\n"
   ]
  },
  {
   "cell_type": "markdown",
   "metadata": {},
   "source": [
    "## Baseline algorithm (Demo code from Keras)\n",
    "Firstly we execute [imdb_lstm.py](https://github.com/fchollet/keras/blob/master/examples/imdb_lstm.py) and yields following results:"
   ]
  },
  {
   "cell_type": "code",
   "execution_count": 7,
   "metadata": {
    "collapsed": false
   },
   "outputs": [
    {
     "name": "stdout",
     "output_type": "stream",
     "text": [
      "Loading data...\n",
      "25000 train sequences\n",
      "25000 test sequences\n",
      "Pad sequences (samples x time)\n",
      "X_train shape: (25000, 80)\n",
      "X_test shape: (25000, 80)\n",
      "Build model...\n",
      "Train...\n",
      "Train on 25000 samples, validate on 25000 samples\n",
      "Epoch 1/15\n",
      "25000/25000 [==============================] - 144s - loss: 0.5333 - acc: 0.7316 - val_loss: 0.4631 - val_acc: 0.7898\n",
      "Epoch 2/15\n",
      "25000/25000 [==============================] - 153s - loss: 0.3812 - acc: 0.8358 - val_loss: 0.3776 - val_acc: 0.8370\n",
      "Epoch 3/15\n",
      "25000/25000 [==============================] - 155s - loss: 0.3077 - acc: 0.8737 - val_loss: 0.3687 - val_acc: 0.8360\n",
      "Epoch 4/15\n",
      "25000/25000 [==============================] - 154s - loss: 0.2497 - acc: 0.8979 - val_loss: 0.4161 - val_acc: 0.8322\n",
      "Epoch 5/15\n",
      "25000/25000 [==============================] - 168s - loss: 0.2100 - acc: 0.9180 - val_loss: 0.4277 - val_acc: 0.8330\n",
      "Epoch 6/15\n",
      "25000/25000 [==============================] - 170s - loss: 0.1801 - acc: 0.9298 - val_loss: 0.4318 - val_acc: 0.8362\n",
      "Epoch 7/15\n",
      "25000/25000 [==============================] - 170s - loss: 0.1503 - acc: 0.9423 - val_loss: 0.4964 - val_acc: 0.8280\n",
      "Epoch 8/15\n",
      "25000/25000 [==============================] - 172s - loss: 0.1328 - acc: 0.9499 - val_loss: 0.5169 - val_acc: 0.8266\n",
      "Epoch 9/15\n",
      "25000/25000 [==============================] - 179s - loss: 0.1163 - acc: 0.9548 - val_loss: 0.5354 - val_acc: 0.8227\n",
      "Epoch 10/15\n",
      "25000/25000 [==============================] - 177s - loss: 0.1047 - acc: 0.9618 - val_loss: 0.5375 - val_acc: 0.8236\n",
      "Epoch 11/15\n",
      "25000/25000 [==============================] - 176s - loss: 0.0947 - acc: 0.9648 - val_loss: 0.5562 - val_acc: 0.8230\n",
      "Epoch 12/15\n",
      "25000/25000 [==============================] - 164s - loss: 0.0847 - acc: 0.9693 - val_loss: 0.5657 - val_acc: 0.8208\n",
      "Epoch 13/15\n",
      "25000/25000 [==============================] - 158s - loss: 0.0772 - acc: 0.9713 - val_loss: 0.6020 - val_acc: 0.8171\n",
      "Epoch 14/15\n",
      "25000/25000 [==============================] - 157s - loss: 0.0715 - acc: 0.9739 - val_loss: 0.6687 - val_acc: 0.8170\n",
      "Epoch 15/15\n",
      "25000/25000 [==============================] - 158s - loss: 0.0621 - acc: 0.9768 - val_loss: 0.6463 - val_acc: 0.8184\n",
      "25000/25000 [==============================] - 35s    \n",
      "Test score: 0.646322505167\n",
      "Test accuracy: 0.81844\n"
     ]
    }
   ],
   "source": [
    "'''Trains a LSTM on the IMDB sentiment classification task.\n",
    "The dataset is actually too small for LSTM to be of any advantage\n",
    "compared to simpler, much faster methods such as TF-IDF + LogReg.\n",
    "Notes:\n",
    "- RNNs are tricky. Choice of batch size is important,\n",
    "choice of loss and optimizer is critical, etc.\n",
    "Some configurations won't converge.\n",
    "- LSTM loss decrease patterns during training can be quite different\n",
    "from what you see with CNNs/MLPs/etc.\n",
    "'''\n",
    "from __future__ import print_function\n",
    "import numpy as np\n",
    "np.random.seed(1337)  # for reproducibility\n",
    "\n",
    "from keras.preprocessing import sequence\n",
    "from keras.utils import np_utils\n",
    "from keras.models import Sequential\n",
    "from keras.layers import Dense, Dropout, Activation, Embedding\n",
    "from keras.layers import LSTM, SimpleRNN, GRU\n",
    "from keras.datasets import imdb\n",
    "\n",
    "max_features = 20000\n",
    "maxlen = 80  # cut texts after this number of words (among top max_features most common words)\n",
    "batch_size = 32\n",
    "\n",
    "print('Loading data...')\n",
    "(X_train, y_train), (X_test, y_test) = imdb.load_data(nb_words=max_features)\n",
    "print(len(X_train), 'train sequences')\n",
    "print(len(X_test), 'test sequences')\n",
    "\n",
    "print('Pad sequences (samples x time)')\n",
    "X_train = sequence.pad_sequences(X_train, maxlen=maxlen)\n",
    "X_test = sequence.pad_sequences(X_test, maxlen=maxlen)\n",
    "print('X_train shape:', X_train.shape)\n",
    "print('X_test shape:', X_test.shape)\n",
    "\n",
    "print('Build model...')\n",
    "model = Sequential()\n",
    "model.add(Embedding(max_features, 128, dropout=0.2))\n",
    "model.add(LSTM(128, dropout_W=0.2, dropout_U=0.2))  # try using a GRU instead, for fun\n",
    "model.add(Dense(1))\n",
    "model.add(Activation('sigmoid'))\n",
    "\n",
    "# try using different optimizers and different optimizer configs\n",
    "model.compile(loss='binary_crossentropy',\n",
    "              optimizer='adam',\n",
    "              metrics=['accuracy'])\n",
    "\n",
    "print('Train...')\n",
    "model.fit(X_train, y_train, batch_size=batch_size, nb_epoch=15,\n",
    "          validation_data=(X_test, y_test))\n",
    "score, acc = model.evaluate(X_test, y_test,\n",
    "                            batch_size=batch_size)\n",
    "print('Test score:', score)\n",
    "print('Test accuracy:', acc)"
   ]
  },
  {
   "cell_type": "markdown",
   "metadata": {},
   "source": [
    "## Understanding the source code\n",
    "Preprocessing\n",
    "* Original Dataset is provided by a [Stanford research group](http://ai.stanford.edu/~amaas//data/sentiment/)\n",
    "* Keras already tokenize the data where each review is encoded as a sequence of word indexes\n",
    "* Pad each reviews to 80 words\n",
    "\n",
    "Model Building\n",
    "* Embedding layer: Map each word into 128 dimentional vector space\n",
    "* LSTM layer: \n",
    "* Dense(1): fully connect LSTM to create one demensional output\n",
    "* Sigmoid\n",
    "* Adam optimizer for training.\n",
    "\n"
   ]
  },
  {
   "cell_type": "markdown",
   "metadata": {
    "collapsed": true
   },
   "source": [
    "## Improving the algorithm\n",
    "Preprocessing techniques\n",
    "* lala\n"
   ]
  },
  {
   "cell_type": "markdown",
   "metadata": {},
   "source": [
    "Activation functions by [Keras.layers.core.Activation](https://keras.io/activations/)\n",
    "* Sigmoid\n",
    "* Relu\n",
    "* Tanh\n",
    "* Hard sigmoid\n"
   ]
  },
  {
   "cell_type": "markdown",
   "metadata": {},
   "source": [
    "Optimizer choices by [keras.optimizers](https://keras.io/optimizers/)\n",
    "* SGD (Stochastic Gradient Decent)\n",
    "* Adam\n",
    "* RMSprop\n",
    "* Adagrad\n",
    "* Nadam"
   ]
  },
  {
   "cell_type": "markdown",
   "metadata": {},
   "source": [
    "## Further Applications\n",
    "Visualization of sentiment analysis ,inspired by [Taylor Arnold's jupyter notebook](http://euler.stat.yale.edu/~tba3/stat665/lectures/lec21/notebook21.html)"
   ]
  }
 ],
 "metadata": {
  "kernelspec": {
   "display_name": "Python 3",
   "language": "python",
   "name": "python3"
  },
  "language_info": {
   "codemirror_mode": {
    "name": "ipython",
    "version": 3
   },
   "file_extension": ".py",
   "mimetype": "text/x-python",
   "name": "python",
   "nbconvert_exporter": "python",
   "pygments_lexer": "ipython3",
   "version": "3.5.1"
  }
 },
 "nbformat": 4,
 "nbformat_minor": 0
}
